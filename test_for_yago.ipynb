{
 "cells": [
  {
   "cell_type": "code",
   "execution_count": 10,
   "id": "18317691-e00e-4a3a-86b0-9027e1edeb42",
   "metadata": {},
   "outputs": [
    {
     "name": "stdout",
     "output_type": "stream",
     "text": [
      "Requirement already satisfied: SPARQLWrapper in c:\\users\\eduar\\anaconda3\\lib\\site-packages (2.0.0)\n",
      "Requirement already satisfied: rdflib>=6.1.1 in c:\\users\\eduar\\anaconda3\\lib\\site-packages (from SPARQLWrapper) (7.1.1)\n",
      "Requirement already satisfied: pyparsing<4,>=2.1.0 in c:\\users\\eduar\\anaconda3\\lib\\site-packages (from rdflib>=6.1.1->SPARQLWrapper) (3.1.2)\n"
     ]
    }
   ],
   "source": [
    "!pip install SPARQLWrapper"
   ]
  },
  {
   "cell_type": "code",
   "execution_count": 46,
   "id": "7f16508b-9396-4cc7-9f6e-466a66e4314c",
   "metadata": {},
   "outputs": [
    {
     "ename": "ModuleNotFoundError",
     "evalue": "No module named 'JSON'",
     "output_type": "error",
     "traceback": [
      "\u001b[1;31m---------------------------------------------------------------------------\u001b[0m",
      "\u001b[1;31mModuleNotFoundError\u001b[0m                       Traceback (most recent call last)",
      "Cell \u001b[1;32mIn[46], line 2\u001b[0m\n\u001b[0;32m      1\u001b[0m \u001b[38;5;28;01mimport\u001b[39;00m \u001b[38;5;21;01mSPARQLWrapper\u001b[39;00m\n\u001b[1;32m----> 2\u001b[0m \u001b[38;5;28;01mimport\u001b[39;00m \u001b[38;5;21;01mJSON\u001b[39;00m\n\u001b[0;32m      3\u001b[0m \u001b[38;5;28;01mdef\u001b[39;00m \u001b[38;5;21mget_entity_for_musician\u001b[39m(artist):\n\u001b[0;32m      4\u001b[0m     \u001b[38;5;66;03m# YAGO SPARQL endpoint\u001b[39;00m\n\u001b[0;32m      5\u001b[0m     endpoint_url \u001b[38;5;241m=\u001b[39m \u001b[38;5;124m\"\u001b[39m\u001b[38;5;124mhttps://yago-knowledge.org/sparql/query\u001b[39m\u001b[38;5;124m\"\u001b[39m\n",
      "\u001b[1;31mModuleNotFoundError\u001b[0m: No module named 'JSON'"
     ]
    }
   ],
   "source": [
    "import SPARQLWrapper\n",
    "import JSON\n",
    "def get_entity_for_musician(artist):\n",
    "    # YAGO SPARQL endpoint\n",
    "    endpoint_url = \"https://yago-knowledge.org/sparql/query\"\n",
    "\n",
    "    # Randomly select an artist from the list\n",
    "    artist = artist.lower()\n",
    "\n",
    "    # SPARQL query template\n",
    "    query_template = f\"\"\"\n",
    "    PREFIX yago: <http://yago-knowledge.org/resource/>\n",
    "    PREFIX rdfs: <http://www.w3.org/2000/01/rdf-schema#>\n",
    "    PREFIX schema: <http://schema.org/>\n",
    "\n",
    "    SELECT DISTINCT ?entity ?type ?influencedBy WHERE {{\n",
    "      {{\n",
    "        ?entity a ?type ;\n",
    "                rdfs:label ?label .\n",
    "        FILTER(CONTAINS(LCASE(STR(?label)), \\\"{artist}\\\")).\n",
    "        ?type rdfs:subClassOf* schema:MusicGroup .\n",
    "      }}\n",
    "      UNION\n",
    "      {{\n",
    "        ?entity a yago:Musician ;\n",
    "                rdfs:label ?label .\n",
    "        FILTER(CONTAINS(LCASE(STR(?label)), \\\"{artist}\\\")).\n",
    "      }}\n",
    "      UNION      \n",
    "      {{\n",
    "        ?entity a ?type ;\n",
    "                rdfs:label ?label .\n",
    "        FILTER(CONTAINS(LCASE(STR(?label)), \\\"{artist}\\\")).\n",
    "        ?type rdfs:subClassOf* yago:Musician .\n",
    "      }}\n",
    "      OPTIONAL {{\n",
    "        ?entity schema:influencedBy ?influencedBy .\n",
    "      }}\n",
    "    }} LIMIT 10\n",
    "    \"\"\"\n",
    "\n",
    "    # Setup SPARQL\n",
    "    sparql = SPARQLWrapper.SPARQLWrapper(endpoint_url)\n",
    "    sparql.setQuery(query_template)\n",
    "    sparql.setReturnFormat(JSON)\n",
    "\n",
    "    try:\n",
    "        # Execute the query\n",
    "        results = sparql.query().convert()\n",
    "        bindings = results[\"results\"][\"bindings\"]\n",
    "        results = []\n",
    "        for binding in  bindings:\n",
    "            entity = binding[\"entity\"][\"value\"]\n",
    "            #label = binding.get(\"label\", {}).get(\"value\", \"Unknown Label\")\n",
    "            type_ = binding.get(\"type\", {}).get(\"value\", \"Unknown Type\")\n",
    "            influenced_by = binding.get(\"influencedBy\", {}).get(\"value\", \"None\")\n",
    "            results.append( {\n",
    "                \"artist\": artist,\n",
    "                \"entity\": entity,\n",
    "               # \"label\": label,\n",
    "                \"type\": type_,\n",
    "                \"influenced_by\": influenced_by\n",
    "            })\n",
    "        return results\n",
    "\n",
    "    except Exception as e:\n",
    "        return None"
   ]
  },
  {
   "cell_type": "code",
   "execution_count": 48,
   "id": "77b1a635-83b5-4f19-bb4a-86acd4cf2c1c",
   "metadata": {},
   "outputs": [],
   "source": [
    "def get_songs_by_artist_url(artist_url):\n",
    "    # YAGO SPARQL endpoint\n",
    "    endpoint_url = \"https://yago-knowledge.org/sparql/query\"\n",
    "\n",
    "    # SPARQL query template\n",
    "    query_template = f\"\"\"\n",
    "    PREFIX schema: <http://schema.org/>\n",
    "    PREFIX rdfs: <http://www.w3.org/2000/01/rdf-schema#>\n",
    "\n",
    "    SELECT DISTINCT ?entity (SAMPLE(?label) AS ?label) ?type WHERE {{\n",
    "      ?entity a ?type ;\n",
    "              schema:musicBy <{artist_url}> ;\n",
    "              rdfs:label ?label .\n",
    "      ?type rdfs:subClassOf* schema:MusicComposition .\n",
    "      FILTER(LANG(?label) = \"en\")\n",
    "    }} GROUP BY ?entity ?type LIMIT 50\n",
    "    \"\"\"\n",
    "\n",
    "    # Setup SPARQL\n",
    "    sparql = SPARQLWrapper.SPARQLWrapper(endpoint_url)\n",
    "    sparql.setQuery(query_template)\n",
    "    sparql.setReturnFormat(JSON)\n",
    "\n",
    "    try:\n",
    "        # Execute the query\n",
    "        results = sparql.query().convert()\n",
    "        bindings = results[\"results\"][\"bindings\"]\n",
    "\n",
    "        songs = []\n",
    "        for binding in bindings:\n",
    "            entity = binding.get(\"entity\", {}).get(\"value\", \"Unknown Entity\")\n",
    "            label = binding.get(\"label\", {}).get(\"value\", \"Unknown Label\")\n",
    "            type_ = binding.get(\"type\", {}).get(\"value\", \"Unknown Type\")\n",
    "            songs.append({\"entity\": entity, \"label\": label, \"type\": type_})\n",
    "\n",
    "        return songs\n",
    "\n",
    "    except Exception as e:\n",
    "        print(str(e))\n",
    "        return None"
   ]
  },
  {
   "cell_type": "code",
   "execution_count": 50,
   "id": "c623f60a-e748-4a7f-b5f6-ea2eee211905",
   "metadata": {},
   "outputs": [],
   "source": [
    "\n",
    "def get_label_by_entity_url(entity_url):\n",
    "    # YAGO SPARQL endpoint\n",
    "    endpoint_url = \"https://yago-knowledge.org/sparql/query\"\n",
    "\n",
    "    # SPARQL query template\n",
    "    query_template = f\"\"\"\n",
    "    PREFIX rdfs: <http://www.w3.org/2000/01/rdf-schema#>\n",
    "\n",
    "    SELECT ?label WHERE {{\n",
    "      <{entity_url}> rdfs:label ?label .\n",
    "      \n",
    "      FILTER(LANG(?label) = \"en\")\n",
    "    }} LIMIT 1\n",
    "    \"\"\"\n",
    "\n",
    "    # Setup SPARQL\n",
    "    sparql = SPARQLWrapper.SPARQLWrapper(endpoint_url)\n",
    "    sparql.setQuery(query_template)\n",
    "    sparql.setReturnFormat(JSON)\n",
    "\n",
    "    try:\n",
    "        # Execute the query\n",
    "        results = sparql.query().convert()\n",
    "        bindings = results[\"results\"][\"bindings\"]\n",
    "\n",
    "        if bindings:\n",
    "            sampled_label = bindings[0].get(\"label\", {}).get(\"value\", None)\n",
    "            return {\"entity\": entity_url, \"label\": sampled_label}\n",
    "        else:\n",
    "            return {\"entity\": entity_url, \"label\": \"No label found.\"}\n",
    "\n",
    "    except Exception as e:\n",
    "        return {\"error\": str(e)}"
   ]
  },
  {
   "cell_type": "code",
   "execution_count": 52,
   "id": "2d716b84-b914-4e46-aafa-4a03b1af1e60",
   "metadata": {},
   "outputs": [
    {
     "ename": "NameError",
     "evalue": "name 'JSON' is not defined",
     "output_type": "error",
     "traceback": [
      "\u001b[1;31m---------------------------------------------------------------------------\u001b[0m",
      "\u001b[1;31mNameError\u001b[0m                                 Traceback (most recent call last)",
      "Cell \u001b[1;32mIn[52], line 2\u001b[0m\n\u001b[0;32m      1\u001b[0m \u001b[38;5;28;01mimport\u001b[39;00m \u001b[38;5;21;01mpandas\u001b[39;00m \u001b[38;5;28;01mas\u001b[39;00m \u001b[38;5;21;01mpd\u001b[39;00m\n\u001b[1;32m----> 2\u001b[0m get_entity_for_musician(\u001b[38;5;124m\"\u001b[39m\u001b[38;5;124mMichael Jackson\u001b[39m\u001b[38;5;124m\"\u001b[39m)\n",
      "Cell \u001b[1;32mIn[38], line 44\u001b[0m, in \u001b[0;36mget_entity_for_musician\u001b[1;34m(artist)\u001b[0m\n\u001b[0;32m     42\u001b[0m sparql \u001b[38;5;241m=\u001b[39m SPARQLWrapper\u001b[38;5;241m.\u001b[39mSPARQLWrapper(endpoint_url)\n\u001b[0;32m     43\u001b[0m sparql\u001b[38;5;241m.\u001b[39msetQuery(query_template)\n\u001b[1;32m---> 44\u001b[0m sparql\u001b[38;5;241m.\u001b[39msetReturnFormat(JSON)\n\u001b[0;32m     46\u001b[0m \u001b[38;5;28;01mtry\u001b[39;00m:\n\u001b[0;32m     47\u001b[0m     \u001b[38;5;66;03m# Execute the query\u001b[39;00m\n\u001b[0;32m     48\u001b[0m     results \u001b[38;5;241m=\u001b[39m sparql\u001b[38;5;241m.\u001b[39mquery()\u001b[38;5;241m.\u001b[39mconvert()\n",
      "\u001b[1;31mNameError\u001b[0m: name 'JSON' is not defined"
     ]
    }
   ],
   "source": [
    "import pandas as pd\n",
    "get_entity_for_musician(\"Michael Jackson\")"
   ]
  },
  {
   "cell_type": "code",
   "execution_count": 54,
   "id": "c56bec37-1c86-4d21-853e-430081161361",
   "metadata": {},
   "outputs": [],
   "source": [
    "#get_label_by_entity_url(\"http://yago-knowledge.org/resource/David_Bowie\")"
   ]
  },
  {
   "cell_type": "code",
   "execution_count": 56,
   "id": "0139de19-b159-44ed-8d1a-b7d20c52af7e",
   "metadata": {},
   "outputs": [],
   "source": [
    "#get_songs_by_artist_url(\"http://yago-knowledge.org/resource/David_Bowie\")"
   ]
  },
  {
   "cell_type": "code",
   "execution_count": 127,
   "id": "829a9aa0-6217-465f-8dbd-bc3614014d65",
   "metadata": {},
   "outputs": [],
   "source": [
    "import random\n",
    "import numpy as np\n",
    "def get_recommendations_based_on_influencedBy(artist_str, max_influences = 2):\n",
    "    results = []\n",
    "    print(\"Getting influencedBy entities...\")\n",
    "    getting_items = get_entity_for_musician(artist_str)\n",
    "    print(getting_items[0])\n",
    "    influences = np.unique(list(map(lambda item: item[\"influenced_by\"], getting_items))).tolist()\n",
    "    influences = random.choices(influences, k=min(max_influences, len(influences)))\n",
    "    \n",
    "    print(f\"Choosing first {max_influences} artists...\")\n",
    "    for influence in influences:\n",
    "        print(f\"Processing {influence}...\")\n",
    "        dict_item = get_label_by_entity_url(influence)\n",
    "        songs = get_songs_by_artist_url(influence)\n",
    "        results.append({\"artist\":influence, \"label\":dict_item[\"label\"], \"songs\":songs})\n",
    "        \n",
    "    return results"
   ]
  },
  {
   "cell_type": "code",
   "execution_count": 132,
   "id": "7b4d4b28-a858-43a0-96f7-05def9b7d324",
   "metadata": {},
   "outputs": [
    {
     "name": "stdout",
     "output_type": "stream",
     "text": [
      "Getting influencedBy entities...\n",
      "{'artist': 'muse', 'entity': 'http://yago-knowledge.org/resource/Nine_Muses__u0028_group_u0029_', 'type': 'http://yago-knowledge.org/resource/Girl_group', 'influenced_by': 'None'}\n",
      "Choosing first 2 artists...\n",
      "Processing None...\n"
     ]
    },
    {
     "data": {
      "text/plain": [
       "[{'artist': 'None', 'label': 'No label found.', 'songs': []}]"
      ]
     },
     "execution_count": 132,
     "metadata": {},
     "output_type": "execute_result"
    }
   ],
   "source": [
    "get_recommendations_based_on_influencedBy(\"Muse\")"
   ]
  },
  {
   "cell_type": "code",
   "execution_count": null,
   "id": "0b6c2997-7ff3-4caa-8d2b-f9e66405c402",
   "metadata": {},
   "outputs": [],
   "source": []
  }
 ],
 "metadata": {
  "kernelspec": {
   "display_name": "Python 3 (ipykernel)",
   "language": "python",
   "name": "python3"
  },
  "language_info": {
   "codemirror_mode": {
    "name": "ipython",
    "version": 3
   },
   "file_extension": ".py",
   "mimetype": "text/x-python",
   "name": "python",
   "nbconvert_exporter": "python",
   "pygments_lexer": "ipython3",
   "version": "3.12.7"
  }
 },
 "nbformat": 4,
 "nbformat_minor": 5
}
