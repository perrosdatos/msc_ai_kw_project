{
 "cells": [
  {
   "cell_type": "code",
   "execution_count": 109,
   "id": "7f16508b-9396-4cc7-9f6e-466a66e4314c",
   "metadata": {},
   "outputs": [],
   "source": [
    "def get_entity_for_musician(artist):\n",
    "    # YAGO SPARQL endpoint\n",
    "    endpoint_url = \"https://yago-knowledge.org/sparql/query\"\n",
    "\n",
    "    # Randomly select an artist from the list\n",
    "    artist = artist.lower()\n",
    "\n",
    "    # SPARQL query template\n",
    "    query_template = f\"\"\"\n",
    "    PREFIX yago: <http://yago-knowledge.org/resource/>\n",
    "    PREFIX rdfs: <http://www.w3.org/2000/01/rdf-schema#>\n",
    "    PREFIX schema: <http://schema.org/>\n",
    "\n",
    "    SELECT DISTINCT ?entity ?type ?influencedBy WHERE {{\n",
    "      {{\n",
    "        ?entity a ?type ;\n",
    "                rdfs:label ?label .\n",
    "        FILTER(CONTAINS(LCASE(STR(?label)), \\\"{artist}\\\")).\n",
    "        ?type rdfs:subClassOf* schema:MusicGroup .\n",
    "      }}\n",
    "      UNION\n",
    "      {{\n",
    "        ?entity a yago:Musician ;\n",
    "                rdfs:label ?label .\n",
    "        FILTER(CONTAINS(LCASE(STR(?label)), \\\"{artist}\\\")).\n",
    "      }}\n",
    "      UNION      \n",
    "      {{\n",
    "        ?entity a ?type ;\n",
    "                rdfs:label ?label .\n",
    "        FILTER(CONTAINS(LCASE(STR(?label)), \\\"{artist}\\\")).\n",
    "        ?type rdfs:subClassOf* yago:Musician .\n",
    "      }}\n",
    "      OPTIONAL {{\n",
    "        ?entity schema:influencedBy ?influencedBy .\n",
    "      }}\n",
    "    }} LIMIT 10\n",
    "    \"\"\"\n",
    "\n",
    "    # Setup SPARQL\n",
    "    sparql = SPARQLWrapper(endpoint_url)\n",
    "    sparql.setQuery(query_template)\n",
    "    sparql.setReturnFormat(JSON)\n",
    "\n",
    "    try:\n",
    "        # Execute the query\n",
    "        results = sparql.query().convert()\n",
    "        bindings = results[\"results\"][\"bindings\"]\n",
    "        results = []\n",
    "        for binding in  bindings:\n",
    "            entity = binding[\"entity\"][\"value\"]\n",
    "            #label = binding.get(\"label\", {}).get(\"value\", \"Unknown Label\")\n",
    "            type_ = binding.get(\"type\", {}).get(\"value\", \"Unknown Type\")\n",
    "            influenced_by = binding.get(\"influencedBy\", {}).get(\"value\", \"None\")\n",
    "            results.append( {\n",
    "                \"artist\": artist,\n",
    "                \"entity\": entity,\n",
    "               # \"label\": label,\n",
    "                \"type\": type_,\n",
    "                \"influenced_by\": influenced_by\n",
    "            })\n",
    "        return results\n",
    "\n",
    "    except Exception as e:\n",
    "        return None"
   ]
  },
  {
   "cell_type": "code",
   "execution_count": 117,
   "id": "77b1a635-83b5-4f19-bb4a-86acd4cf2c1c",
   "metadata": {},
   "outputs": [],
   "source": [
    "def get_songs_by_artist_url(artist_url):\n",
    "    # YAGO SPARQL endpoint\n",
    "    endpoint_url = \"https://yago-knowledge.org/sparql/query\"\n",
    "\n",
    "    # SPARQL query template\n",
    "    query_template = f\"\"\"\n",
    "    PREFIX schema: <http://schema.org/>\n",
    "    PREFIX rdfs: <http://www.w3.org/2000/01/rdf-schema#>\n",
    "\n",
    "    SELECT DISTINCT ?entity (SAMPLE(?label) AS ?label) ?type WHERE {{\n",
    "      ?entity a ?type ;\n",
    "              schema:musicBy <{artist_url}> ;\n",
    "              rdfs:label ?label .\n",
    "      ?type rdfs:subClassOf* schema:MusicComposition .\n",
    "      FILTER(LANG(?label) = \"en\")\n",
    "    }} GROUP BY ?entity ?type LIMIT 50\n",
    "    \"\"\"\n",
    "\n",
    "    # Setup SPARQL\n",
    "    sparql = SPARQLWrapper(endpoint_url)\n",
    "    sparql.setQuery(query_template)\n",
    "    sparql.setReturnFormat(JSON)\n",
    "\n",
    "    try:\n",
    "        # Execute the query\n",
    "        results = sparql.query().convert()\n",
    "        bindings = results[\"results\"][\"bindings\"]\n",
    "\n",
    "        songs = []\n",
    "        for binding in bindings:\n",
    "            entity = binding.get(\"entity\", {}).get(\"value\", \"Unknown Entity\")\n",
    "            label = binding.get(\"label\", {}).get(\"value\", \"Unknown Label\")\n",
    "            type_ = binding.get(\"type\", {}).get(\"value\", \"Unknown Type\")\n",
    "            songs.append({\"entity\": entity, \"label\": label, \"type\": type_})\n",
    "\n",
    "        return songs\n",
    "\n",
    "    except Exception as e:\n",
    "        print(str(e))\n",
    "        return None"
   ]
  },
  {
   "cell_type": "code",
   "execution_count": 123,
   "id": "c623f60a-e748-4a7f-b5f6-ea2eee211905",
   "metadata": {},
   "outputs": [],
   "source": [
    "\n",
    "def get_label_by_entity_url(entity_url):\n",
    "    # YAGO SPARQL endpoint\n",
    "    endpoint_url = \"https://yago-knowledge.org/sparql/query\"\n",
    "\n",
    "    # SPARQL query template\n",
    "    query_template = f\"\"\"\n",
    "    PREFIX rdfs: <http://www.w3.org/2000/01/rdf-schema#>\n",
    "\n",
    "    SELECT ?label WHERE {{\n",
    "      <{entity_url}> rdfs:label ?label .\n",
    "      \n",
    "      FILTER(LANG(?label) = \"en\")\n",
    "    }} LIMIT 1\n",
    "    \"\"\"\n",
    "\n",
    "    # Setup SPARQL\n",
    "    sparql = SPARQLWrapper(endpoint_url)\n",
    "    sparql.setQuery(query_template)\n",
    "    sparql.setReturnFormat(JSON)\n",
    "\n",
    "    try:\n",
    "        # Execute the query\n",
    "        results = sparql.query().convert()\n",
    "        bindings = results[\"results\"][\"bindings\"]\n",
    "\n",
    "        if bindings:\n",
    "            sampled_label = bindings[0].get(\"label\", {}).get(\"value\", None)\n",
    "            return {\"entity\": entity_url, \"label\": sampled_label}\n",
    "        else:\n",
    "            return {\"entity\": entity_url, \"label\": \"No label found.\"}\n",
    "\n",
    "    except Exception as e:\n",
    "        return {\"error\": str(e)}"
   ]
  },
  {
   "cell_type": "code",
   "execution_count": 133,
   "id": "2d716b84-b914-4e46-aafa-4a03b1af1e60",
   "metadata": {},
   "outputs": [
    {
     "data": {
      "text/plain": [
       "[{'artist': 'michael jackson',\n",
       "  'entity': 'http://yago-knowledge.org/resource/Michael_Jackson',\n",
       "  'type': 'http://yago-knowledge.org/resource/Record_producer',\n",
       "  'influenced_by': 'http://yago-knowledge.org/resource/The_Beatles'},\n",
       " {'artist': 'michael jackson',\n",
       "  'entity': 'http://yago-knowledge.org/resource/Michael_Jackson',\n",
       "  'type': 'http://yago-knowledge.org/resource/Record_producer',\n",
       "  'influenced_by': 'http://yago-knowledge.org/resource/Marcel_Marceau'},\n",
       " {'artist': 'michael jackson',\n",
       "  'entity': 'http://yago-knowledge.org/resource/Michael_Jackson',\n",
       "  'type': 'http://yago-knowledge.org/resource/Record_producer',\n",
       "  'influenced_by': 'http://yago-knowledge.org/resource/Charlie_Chaplin'},\n",
       " {'artist': 'michael jackson',\n",
       "  'entity': 'http://yago-knowledge.org/resource/Michael_Jackson',\n",
       "  'type': 'http://yago-knowledge.org/resource/Record_producer',\n",
       "  'influenced_by': 'http://yago-knowledge.org/resource/Fred_Astaire'},\n",
       " {'artist': 'michael jackson',\n",
       "  'entity': 'http://yago-knowledge.org/resource/Michael_Jackson',\n",
       "  'type': 'http://yago-knowledge.org/resource/Record_producer',\n",
       "  'influenced_by': 'http://yago-knowledge.org/resource/Sly_Stone'},\n",
       " {'artist': 'michael jackson',\n",
       "  'entity': 'http://yago-knowledge.org/resource/Michael_Jackson',\n",
       "  'type': 'http://yago-knowledge.org/resource/Record_producer',\n",
       "  'influenced_by': 'http://yago-knowledge.org/resource/Sam_Cooke'},\n",
       " {'artist': 'michael jackson',\n",
       "  'entity': 'http://yago-knowledge.org/resource/Michael_Jackson',\n",
       "  'type': 'http://yago-knowledge.org/resource/Record_producer',\n",
       "  'influenced_by': 'http://yago-knowledge.org/resource/James_Brown'},\n",
       " {'artist': 'michael jackson',\n",
       "  'entity': 'http://yago-knowledge.org/resource/Michael_Jackson',\n",
       "  'type': 'http://yago-knowledge.org/resource/Record_producer',\n",
       "  'influenced_by': 'http://yago-knowledge.org/resource/Sammy_Davis_Jr_u002E_'},\n",
       " {'artist': 'michael jackson',\n",
       "  'entity': 'http://yago-knowledge.org/resource/Michael_Jackson',\n",
       "  'type': 'http://yago-knowledge.org/resource/Record_producer',\n",
       "  'influenced_by': 'http://yago-knowledge.org/resource/Jackie_Wilson'},\n",
       " {'artist': 'michael jackson',\n",
       "  'entity': 'http://yago-knowledge.org/resource/Michael_Jackson',\n",
       "  'type': 'http://yago-knowledge.org/resource/Record_producer',\n",
       "  'influenced_by': 'http://yago-knowledge.org/resource/Diana_Ross'}]"
      ]
     },
     "execution_count": 133,
     "metadata": {},
     "output_type": "execute_result"
    }
   ],
   "source": [
    "import pandas as pd\n",
    "get_entity_for_musician(\"Michael Jackson\")"
   ]
  },
  {
   "cell_type": "code",
   "execution_count": 125,
   "id": "c56bec37-1c86-4d21-853e-430081161361",
   "metadata": {},
   "outputs": [],
   "source": [
    "#get_label_by_entity_url(\"http://yago-knowledge.org/resource/David_Bowie\")"
   ]
  },
  {
   "cell_type": "code",
   "execution_count": 129,
   "id": "0139de19-b159-44ed-8d1a-b7d20c52af7e",
   "metadata": {},
   "outputs": [],
   "source": [
    "#get_songs_by_artist_url(\"http://yago-knowledge.org/resource/David_Bowie\")"
   ]
  },
  {
   "cell_type": "code",
   "execution_count": 127,
   "id": "829a9aa0-6217-465f-8dbd-bc3614014d65",
   "metadata": {},
   "outputs": [],
   "source": [
    "import random\n",
    "import numpy as np\n",
    "def get_recommendations_based_on_influencedBy(artist_str, max_influences = 2):\n",
    "    results = []\n",
    "    print(\"Getting influencedBy entities...\")\n",
    "    getting_items = get_entity_for_musician(artist_str)\n",
    "    print(getting_items[0])\n",
    "    influences = np.unique(list(map(lambda item: item[\"influenced_by\"], getting_items))).tolist()\n",
    "    influences = random.choices(influences, k=min(max_influences, len(influences)))\n",
    "    \n",
    "    print(f\"Choosing first {max_influences} artists...\")\n",
    "    for influence in influences:\n",
    "        print(f\"Processing {influence}...\")\n",
    "        dict_item = get_label_by_entity_url(influence)\n",
    "        songs = get_songs_by_artist_url(influence)\n",
    "        results.append({\"artist\":influence, \"label\":dict_item[\"label\"], \"songs\":songs})\n",
    "        \n",
    "    return results"
   ]
  },
  {
   "cell_type": "code",
   "execution_count": 132,
   "id": "7b4d4b28-a858-43a0-96f7-05def9b7d324",
   "metadata": {},
   "outputs": [
    {
     "name": "stdout",
     "output_type": "stream",
     "text": [
      "Getting influencedBy entities...\n",
      "{'artist': 'muse', 'entity': 'http://yago-knowledge.org/resource/Nine_Muses__u0028_group_u0029_', 'type': 'http://yago-knowledge.org/resource/Girl_group', 'influenced_by': 'None'}\n",
      "Choosing first 2 artists...\n",
      "Processing None...\n"
     ]
    },
    {
     "data": {
      "text/plain": [
       "[{'artist': 'None', 'label': 'No label found.', 'songs': []}]"
      ]
     },
     "execution_count": 132,
     "metadata": {},
     "output_type": "execute_result"
    }
   ],
   "source": [
    "get_recommendations_based_on_influencedBy(\"Muse\")"
   ]
  },
  {
   "cell_type": "code",
   "execution_count": null,
   "id": "0b6c2997-7ff3-4caa-8d2b-f9e66405c402",
   "metadata": {},
   "outputs": [],
   "source": []
  }
 ],
 "metadata": {
  "kernelspec": {
   "display_name": "Python 3 (ipykernel)",
   "language": "python",
   "name": "python3"
  },
  "language_info": {
   "codemirror_mode": {
    "name": "ipython",
    "version": 3
   },
   "file_extension": ".py",
   "mimetype": "text/x-python",
   "name": "python",
   "nbconvert_exporter": "python",
   "pygments_lexer": "ipython3",
   "version": "3.12.4"
  }
 },
 "nbformat": 4,
 "nbformat_minor": 5
}
